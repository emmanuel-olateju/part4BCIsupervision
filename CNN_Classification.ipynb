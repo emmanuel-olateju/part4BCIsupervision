{
  "cells": [
    {
      "cell_type": "code",
      "execution_count": 1,
      "metadata": {
        "colab": {
          "base_uri": "https://localhost:8080/"
        },
        "id": "P0eEE7DbVgxH",
        "outputId": "99de0dad-2d54-45f2-c05f-b39c87d8611a"
      },
      "outputs": [
        {
          "output_type": "stream",
          "name": "stdout",
          "text": [
            "Looking in indexes: https://pypi.org/simple, https://us-python.pkg.dev/colab-wheels/public/simple/\n",
            "Collecting pyxdf\n",
            "  Downloading pyxdf-1.16.3-py2.py3-none-any.whl (15 kB)\n",
            "Requirement already satisfied: numpy in /usr/local/lib/python3.7/dist-packages (from pyxdf) (1.21.6)\n",
            "Installing collected packages: pyxdf\n",
            "Successfully installed pyxdf-1.16.3\n"
          ]
        }
      ],
      "source": [
        "pip install pyxdf\n"
      ]
    },
    {
      "cell_type": "code",
      "execution_count": 2,
      "metadata": {
        "id": "NeGRTL-e09JM"
      },
      "outputs": [],
      "source": [
        "import pyxdf\n",
        "import numpy as np\n",
        "import matplotlib.pyplot as plt"
      ]
    },
    {
      "cell_type": "code",
      "execution_count": 3,
      "metadata": {
        "id": "DFUTCq2RLN8P"
      },
      "outputs": [],
      "source": [
        "no_of_files=12\n",
        "\n",
        "all_xdfs = [pyxdf.load_xdf('/content/A'+str(f)+'.xdf')[0] for f in range(1,no_of_files+1)]"
      ]
    },
    {
      "cell_type": "code",
      "execution_count": 4,
      "metadata": {
        "id": "ZNkIjTyv0EyE"
      },
      "outputs": [],
      "source": [
        "def xdf_extract(i,eventWindow,channel_length,eeg_channel,stim_channel):\n",
        "    dataset_arr=np.empty((0,eventWindow,channel_length))\n",
        "    start_time=float(i[eeg_channel]['footer']['info']['first_timestamp'][0])\n",
        "    end_time=float(i[eeg_channel]['footer']['info']['last_timestamp'][0])\n",
        "    no_samples=float(i[eeg_channel]['footer']['info']['sample_count'][0])\n",
        "    Fs=i[eeg_channel]['info']['effective_srate']\n",
        "    try:\n",
        "        Ts=1/Fs\n",
        "    except ZeroDivisionError:\n",
        "        print('ZeroDivisionError')\n",
        "        return\n",
        "    time_stamps=(i[eeg_channel]['time_stamps']-start_time)/(end_time-start_time)*no_samples*Ts\n",
        "    time_index=(i[eeg_channel]['time_stamps']-start_time)/(end_time-start_time)*no_samples\n",
        "    first_marker_time=(float(i[stim_channel]['footer']['info']['first_timestamp'][0])-start_time)/(end_time-start_time)*no_samples*Ts\n",
        "    last_marker_time=(float(i[stim_channel]['footer']['info']['last_timestamp'][0])-start_time)/(end_time-start_time)*no_samples*Ts\n",
        "    markers=list()\n",
        "    for j in i[stim_channel]['time_series']:\n",
        "        markers.append(j[0])\n",
        "    markers_time=list((i[stim_channel]['time_stamps']-start_time)/(end_time-start_time)*no_samples*Ts)\n",
        "    markers_index=list((i[stim_channel]['time_stamps']-start_time)/(end_time-start_time)*no_samples)\n",
        "\n",
        "    for e in range(1,len(markers)-1):\n",
        "        try:\n",
        "            data=(i[eeg_channel]['time_series'][(np.where(time_stamps>=markers_time[e])),:])[:,0:eventWindow,:]#[0:3,:]#[:,0:eventWindow,:].reshape(eventWindow,8).reshape(1,eventWindow,8)\n",
        "            # print(data.shape)\n",
        "            dataset_arr=np.vstack((dataset_arr,data))\n",
        "        except ValueError as v:\n",
        "            print(data.shape,'ValueError',v)\n",
        "            return\n",
        "    return dataset_arr,markers[1:-1]"
      ]
    },
    {
      "cell_type": "code",
      "execution_count": 5,
      "metadata": {
        "colab": {
          "base_uri": "https://localhost:8080/"
        },
        "id": "C1vVhlzR0VQ4",
        "outputId": "94f83ad9-07a9-4ac7-f815-0176dae5d6a9"
      },
      "outputs": [
        {
          "output_type": "stream",
          "name": "stdout",
          "text": [
            "(3945, 8, 250) 3945\n"
          ]
        }
      ],
      "source": [
        "eeg_data = None\n",
        "eeg_markers = None\n",
        "for i,xdf in enumerate(all_xdfs[1:]):\n",
        "    if xdf != None:\n",
        "        if i == 0:\n",
        "            eeg = xdf_extract(xdf, 250, 8, 0, 1)\n",
        "            eeg_data = eeg[0]\n",
        "            eeg_markers = eeg[1]\n",
        "        else:\n",
        "            eeg = xdf_extract(xdf, 250, 8, 0, 1)\n",
        "            eeg_data = np.vstack((eeg_data,eeg[0]))\n",
        "            eeg_markers = eeg_markers + eeg[1]\n",
        "eeg_data = np.transpose(eeg_data, [0,2,1])\n",
        "print(eeg_data.shape, len(eeg_markers))"
      ]
    },
    {
      "cell_type": "code",
      "execution_count": 6,
      "metadata": {
        "colab": {
          "base_uri": "https://localhost:8080/"
        },
        "id": "dKcmn6TEW8FP",
        "outputId": "41199a21-d9af-45be-db97-afe12a2ba618"
      },
      "outputs": [
        {
          "output_type": "stream",
          "name": "stdout",
          "text": [
            "Looking in indexes: https://pypi.org/simple, https://us-python.pkg.dev/colab-wheels/public/simple/\n",
            "Requirement already satisfied: pywavelets in /usr/local/lib/python3.7/dist-packages (1.3.0)\n",
            "Requirement already satisfied: numpy>=1.17.3 in /usr/local/lib/python3.7/dist-packages (from pywavelets) (1.21.6)\n"
          ]
        }
      ],
      "source": [
        "pip install pywavelets"
      ]
    },
    {
      "cell_type": "code",
      "execution_count": 7,
      "metadata": {
        "id": "YDte0x10W_YY"
      },
      "outputs": [],
      "source": [
        "import pywt as pywt"
      ]
    },
    {
      "cell_type": "code",
      "execution_count": 8,
      "metadata": {
        "id": "6s-LK1Shmxif"
      },
      "outputs": [],
      "source": [
        "data = np.asarray(eeg_data, dtype=object)\n",
        "labels = np.asarray(eeg_markers, dtype=object)"
      ]
    },
    {
      "cell_type": "code",
      "execution_count": 9,
      "metadata": {
        "id": "vzUKnwD95Win"
      },
      "outputs": [],
      "source": [
        "dataNew = data.reshape(3945, 250, 8)"
      ]
    },
    {
      "cell_type": "code",
      "execution_count": 10,
      "metadata": {
        "colab": {
          "base_uri": "https://localhost:8080/"
        },
        "id": "1lX2-psW6cCE",
        "outputId": "3bed6b20-d468-4aa0-8c66-8aecc78f8cce"
      },
      "outputs": [
        {
          "output_type": "execute_result",
          "data": {
            "text/plain": [
              "(3945, 250, 8)"
            ]
          },
          "metadata": {},
          "execution_count": 10
        }
      ],
      "source": [
        "dataNew.shape"
      ]
    },
    {
      "cell_type": "code",
      "execution_count": 11,
      "metadata": {
        "colab": {
          "base_uri": "https://localhost:8080/"
        },
        "id": "ne51lQ14dGq7",
        "outputId": "0c07926c-b4f3-4d7e-a711-cd8598615795"
      },
      "outputs": [
        {
          "output_type": "stream",
          "name": "stdout",
          "text": [
            "0\n",
            "1000\n",
            "2000\n",
            "0\n",
            "100\n",
            "200\n",
            "300\n"
          ]
        }
      ],
      "source": [
        "scales = range(1,250)\n",
        "waveletname = 'morl'\n",
        "train_size = 2500\n",
        "test_size= 400\n",
        "n = 500\n",
        "\n",
        "train_data_cwt = np.ndarray(shape=(train_size, 249, 249, 8))\n",
        "f = pywt.scale2frequency(waveletname, scales)/250\n",
        "\n",
        "for ii in range(0,train_size):\n",
        "    if ii % 1000 == 0:\n",
        "        print(ii)\n",
        "    for jj in range(0,8):\n",
        "        signal = dataNew[ii, :, jj]\n",
        "        coeff, freq = pywt.cwt(signal, scales, waveletname, 1)\n",
        "        coeff_ = coeff[:,:249]\n",
        "        train_data_cwt[jj, :, :, jj] = coeff_\n",
        "\n",
        "test_data_cwt = np.ndarray(shape=(test_size, 249, 249, 8))\n",
        "\n",
        "for ii in range(0,test_size):\n",
        "    if ii % 100 == 0:\n",
        "        print(ii)\n",
        "    for jj in range(0,8):\n",
        "        signal = dataNew[ii, :, jj]\n",
        "        coeff, freq = pywt.cwt(signal, scales, waveletname, 1)\n",
        "        coeff_ = coeff[:,:249]\n",
        "        test_data_cwt[ii, :, :, jj] = coeff_\n",
        "\n",
        "labels_train = list(map(lambda x: int(x) - 1, np.ndarray(labels.shape[0])))\n",
        "labels_test = list(map(lambda x: int(x) - 1, np.ndarray(labels.shape[0])))\n",
        "\n",
        "x_train = train_data_cwt\n",
        "y_train = list(labels_train[:train_size])\n",
        "x_test = test_data_cwt\n",
        "y_test = list(labels_test[:test_size])"
      ]
    },
    {
      "cell_type": "code",
      "execution_count": 12,
      "metadata": {
        "id": "TYUJkMwmT1Px"
      },
      "outputs": [],
      "source": [
        "import keras\n",
        "from keras.layers import Dense, Flatten\n",
        "from keras.layers import Conv2D, MaxPooling2D\n",
        "from keras.models import Sequential\n",
        "from keras.callbacks import History \n",
        "history = History()\n",
        " \n",
        "img_x = 249\n",
        "img_y = 249\n",
        "img_z = 8\n",
        "input_shape = (img_x, img_y, img_z)\n",
        " \n",
        "# num_classes = 6\n",
        "batch_size = 8\n",
        "num_classes = 7\n",
        "epochs = 3\n",
        " \n",
        "x_train = x_train.astype('float32')\n",
        "X_train = x_train[:-n]\n",
        "X_val = x_train[-n:]\n",
        "\n",
        "x_test = x_test.astype('float32')\n",
        " \n",
        "y_train = keras.utils.to_categorical(y_train, num_classes)\n",
        "Y_train = y_train[:-n]\n",
        "Y_val = y_train[-n:]\n",
        "\n",
        "y_test = keras.utils.to_categorical(y_test, num_classes)"
      ]
    },
    {
      "cell_type": "code",
      "execution_count": 13,
      "metadata": {
        "id": "PfOdetipWz3v"
      },
      "outputs": [],
      "source": [
        "model = Sequential()\n",
        "model.add(Conv2D(32, kernel_size=(5, 5), strides=(1, 1),\n",
        "                 activation='relu',\n",
        "                 input_shape=input_shape))\n",
        "model.add(MaxPooling2D(pool_size=(2, 2), strides=(2, 2)))\n",
        "model.add(Conv2D(64, (5, 5), activation='relu'))\n",
        "model.add(MaxPooling2D(pool_size=(2, 2)))\n",
        "model.add(Flatten())\n",
        "model.add(Dense(10, activation='relu'))\n",
        "model.add(Dense(num_classes, activation='softmax'))\n",
        " "
      ]
    },
    {
      "cell_type": "code",
      "execution_count": 15,
      "metadata": {
        "colab": {
          "base_uri": "https://localhost:8080/"
        },
        "id": "_kTdv3MX0HMc",
        "outputId": "09bb2b1c-6fd5-4eb2-db4c-1d26af73f290"
      },
      "outputs": [
        {
          "output_type": "stream",
          "name": "stdout",
          "text": [
            "Epoch 1/2\n",
            "250/250 [==============================] - 414s 2s/step - loss: 5.5432e-09 - accuracy: 1.0000 - val_loss: 0.0000e+00 - val_accuracy: 1.0000\n",
            "Epoch 2/2\n",
            "250/250 [==============================] - 407s 2s/step - loss: 0.0000e+00 - accuracy: 1.0000 - val_loss: 0.0000e+00 - val_accuracy: 1.0000\n",
            "Train loss: 0.0, Train accuracy: 1.0\n",
            "Test loss: 0.0, Test accuracy: 1.0\n"
          ]
        }
      ],
      "source": [
        "model.compile(loss=keras.losses.categorical_crossentropy,\n",
        "              optimizer=keras.optimizers.Adam(),\n",
        "              metrics=['accuracy'])\n",
        " \n",
        " \n",
        "model.fit(X_train, Y_train,\n",
        "          batch_size=batch_size,\n",
        "          epochs=2,\n",
        "          verbose=1,\n",
        "          validation_data=(x_test, y_test),\n",
        "          callbacks=[history])\n",
        " \n",
        "train_score = model.evaluate(x_train, y_train, verbose=0)\n",
        "print('Train loss: {}, Train accuracy: {}'.format(train_score[0], train_score[1]))\n",
        "test_score = model.evaluate(x_test, y_test, verbose=0)\n",
        "print('Test loss: {}, Test accuracy: {}'.format(test_score[0], test_score[1]))"
      ]
    },
    {
      "cell_type": "code",
      "source": [
        "pred = model.predict(X_val)"
      ],
      "metadata": {
        "colab": {
          "base_uri": "https://localhost:8080/"
        },
        "id": "_A32ipoTvWW4",
        "outputId": "a75cf6b9-bbd0-4076-a7fd-dec5cdb6418f"
      },
      "execution_count": 17,
      "outputs": [
        {
          "output_type": "stream",
          "name": "stdout",
          "text": [
            "16/16 [==============================] - 24s 1s/step\n"
          ]
        }
      ]
    },
    {
      "cell_type": "code",
      "source": [
        "from sklearn.metrics import accuracy_score"
      ],
      "metadata": {
        "id": "Lw8teaoQuy9b"
      },
      "execution_count": 16,
      "outputs": []
    },
    {
      "cell_type": "code",
      "source": [
        "# np.argmax(pred, axis=1), np.argmax(Y_val, axis=1)\n",
        "accuracy_score(np.argmax(pred, axis=1), np.argmax(Y_val, axis=1))\n",
        "\n"
      ],
      "metadata": {
        "colab": {
          "base_uri": "https://localhost:8080/"
        },
        "id": "xZc-TwD0u-M5",
        "outputId": "ee2e25d1-a2d3-43d0-c825-519409d53528"
      },
      "execution_count": 19,
      "outputs": [
        {
          "output_type": "execute_result",
          "data": {
            "text/plain": [
              "1.0"
            ]
          },
          "metadata": {},
          "execution_count": 19
        }
      ]
    },
    {
      "cell_type": "code",
      "source": [
        "model.save('/content/keras_CNN_model')"
      ],
      "metadata": {
        "colab": {
          "base_uri": "https://localhost:8080/"
        },
        "id": "nij3QthshvXs",
        "outputId": "70f681d3-c3e5-451a-af70-fdd00dea6954"
      },
      "execution_count": 22,
      "outputs": [
        {
          "output_type": "stream",
          "name": "stderr",
          "text": [
            "WARNING:absl:Found untraced functions such as _jit_compiled_convolution_op, _jit_compiled_convolution_op while saving (showing 2 of 2). These functions will not be directly callable after loading.\n"
          ]
        }
      ]
    },
    {
      "cell_type": "code",
      "source": [
        "!zip -r model.zip /content/keras_CNN_model"
      ],
      "metadata": {
        "colab": {
          "base_uri": "https://localhost:8080/"
        },
        "id": "Syh6C2WckVF8",
        "outputId": "44259369-a134-40ee-836e-a3e4622fc3c1"
      },
      "execution_count": 29,
      "outputs": [
        {
          "output_type": "stream",
          "name": "stdout",
          "text": [
            "  adding: content/keras_CNN_model/ (stored 0%)\n",
            "  adding: content/keras_CNN_model/keras_metadata.pb (deflated 90%)\n",
            "  adding: content/keras_CNN_model/saved_model.pb (deflated 88%)\n",
            "  adding: content/keras_CNN_model/assets/ (stored 0%)\n",
            "  adding: content/keras_CNN_model/variables/ (stored 0%)\n",
            "  adding: content/keras_CNN_model/variables/variables.index (deflated 64%)\n",
            "  adding: content/keras_CNN_model/variables/variables.data-00000-of-00001 (deflated 69%)\n"
          ]
        }
      ]
    },
    {
      "cell_type": "code",
      "source": [
        "import pickle"
      ],
      "metadata": {
        "id": "v_SEZi4Mh9XY"
      },
      "execution_count": 21,
      "outputs": []
    },
    {
      "cell_type": "code",
      "source": [
        "filename = 'keras_CNN_picklefile'\n",
        "pickle.dump(model, open(filename, \"wb\"))"
      ],
      "metadata": {
        "colab": {
          "base_uri": "https://localhost:8080/"
        },
        "id": "Q5I684FeioqP",
        "outputId": "ebfd0839-1ab2-4c99-c49c-ed207e3e18a0"
      },
      "execution_count": 23,
      "outputs": [
        {
          "output_type": "stream",
          "name": "stderr",
          "text": [
            "WARNING:absl:Found untraced functions such as _jit_compiled_convolution_op, _jit_compiled_convolution_op while saving (showing 2 of 2). These functions will not be directly callable after loading.\n"
          ]
        }
      ]
    }
  ],
  "metadata": {
    "colab": {
      "provenance": []
    },
    "kernelspec": {
      "display_name": "Python 3",
      "name": "python3"
    },
    "language_info": {
      "name": "python"
    }
  },
  "nbformat": 4,
  "nbformat_minor": 0
}