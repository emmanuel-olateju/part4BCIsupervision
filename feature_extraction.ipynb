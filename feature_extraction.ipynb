{
  "cells": [
    {
      "cell_type": "markdown",
      "metadata": {},
      "source": [
        "# Imports"
      ]
    },
    {
      "cell_type": "code",
      "execution_count": 1,
      "metadata": {
        "id": "zS1N8MqCWAx9"
      },
      "outputs": [],
      "source": [
        "import numpy as np\n",
        "import matplotlib.pyplot as plt\n",
        "import joblib"
      ]
    },
    {
      "cell_type": "code",
      "execution_count": 2,
      "metadata": {},
      "outputs": [
        {
          "name": "stdout",
          "output_type": "stream",
          "text": [
            "(3945, 8, 1250) 3945\n"
          ]
        }
      ],
      "source": [
        "eeg = joblib.load('altered_data/merged_eeg.sav')\n",
        "print(eeg['X'].shape, len(eeg['y']))"
      ]
    },
    {
      "cell_type": "code",
      "execution_count": 3,
      "metadata": {},
      "outputs": [],
      "source": [
        "features = dict()"
      ]
    },
    {
      "cell_type": "markdown",
      "metadata": {},
      "source": [
        "# Feature Extraction"
      ]
    },
    {
      "cell_type": "markdown",
      "metadata": {},
      "source": [
        "## time-frequency domain methods"
      ]
    },
    {
      "cell_type": "markdown",
      "metadata": {},
      "source": [
        "#### STFT"
      ]
    },
    {
      "cell_type": "code",
      "execution_count": 4,
      "metadata": {},
      "outputs": [],
      "source": [
        "import scipy\n",
        "import scipy.signal as signal\n",
        "from stft import *"
      ]
    },
    {
      "cell_type": "code",
      "execution_count": 5,
      "metadata": {},
      "outputs": [
        {
          "name": "stdout",
          "output_type": "stream",
          "text": [
            "(3945, 8, 129, 11) (3945, 8, 1250)\n"
          ]
        }
      ],
      "source": [
        "eegSTFT = STFT(default_stft_params)\n",
        "eegSTFT.compute(eeg['X'])\n",
        "features['STFT']=eegSTFT.stft['Zxx']\n",
        "print(features['STFT'].shape, eeg['X'].shape)"
      ]
    },
    {
      "cell_type": "markdown",
      "metadata": {},
      "source": [
        "#### wavelet transform"
      ]
    },
    {
      "cell_type": "code",
      "execution_count": 8,
      "metadata": {
        "id": "5-9KkTMLrBJ_"
      },
      "outputs": [],
      "source": [
        "import pywt as pywt\n",
        "import scipy.signal as scipy\n",
        "from wavelet_methods import *"
      ]
    },
    {
      "cell_type": "code",
      "execution_count": 9,
      "metadata": {},
      "outputs": [
        {
          "name": "stdout",
          "output_type": "stream",
          "text": [
            "(3945, 8, 15, 1250) (3945, 8, 1250)\n"
          ]
        }
      ],
      "source": [
        "features['wavelet'] = sc_D3_wavelet_coef_freq(eeg['X'],np.arange(1,16))\n",
        "print(features['wavelet'].shape, eeg['X'].shape)"
      ]
    },
    {
      "cell_type": "markdown",
      "metadata": {},
      "source": [
        "#### save time-frequency domain features"
      ]
    },
    {
      "cell_type": "code",
      "execution_count": 10,
      "metadata": {},
      "outputs": [
        {
          "data": {
            "text/plain": [
              "['features/time_frequency_features.sav']"
            ]
          },
          "execution_count": 10,
          "metadata": {},
          "output_type": "execute_result"
        }
      ],
      "source": [
        "joblib.dump({'stft':eegSTFT,'ricker':features['wavelet'],'y':eeg['y']},'features/time_frequency_features.sav')"
      ]
    },
    {
      "cell_type": "code",
      "execution_count": null,
      "metadata": {},
      "outputs": [],
      "source": []
    }
  ],
  "metadata": {
    "colab": {
      "provenance": []
    },
    "kernelspec": {
      "display_name": "Python 3.9.13 ('DL_Keras')",
      "language": "python",
      "name": "python3"
    },
    "language_info": {
      "codemirror_mode": {
        "name": "ipython",
        "version": 3
      },
      "file_extension": ".py",
      "mimetype": "text/x-python",
      "name": "python",
      "nbconvert_exporter": "python",
      "pygments_lexer": "ipython3",
      "version": "3.9.13"
    },
    "vscode": {
      "interpreter": {
        "hash": "5aba0adc9b334b1997a0335f731b2a1d1b803be1f0eea858c81e564f0a4ac976"
      }
    }
  },
  "nbformat": 4,
  "nbformat_minor": 0
}
