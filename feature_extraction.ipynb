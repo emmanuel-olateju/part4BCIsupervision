{
  "cells": [
    {
      "cell_type": "code",
      "execution_count": 1,
      "metadata": {
        "id": "zS1N8MqCWAx9"
      },
      "outputs": [],
      "source": [
        "import numpy as np\n",
        "import matplotlib.pyplot as plt\n",
        "import joblib"
      ]
    },
    {
      "cell_type": "code",
      "execution_count": 2,
      "metadata": {},
      "outputs": [
        {
          "name": "stdout",
          "output_type": "stream",
          "text": [
            "(3945, 8, 1250) 3945\n"
          ]
        }
      ],
      "source": [
        "eeg = joblib.load('altered_data/merged_eeg.sav')\n",
        "print(eeg['X'].shape, len(eeg['y']))"
      ]
    },
    {
      "cell_type": "markdown",
      "metadata": {},
      "source": [
        "#### STFT"
      ]
    },
    {
      "cell_type": "code",
      "execution_count": 3,
      "metadata": {},
      "outputs": [
        {
          "name": "stderr",
          "output_type": "stream",
          "text": [
            "d:\\miniconda3\\lib\\site-packages\\scipy\\__init__.py:146: UserWarning: A NumPy version >=1.16.5 and <1.23.0 is required for this version of SciPy (detected version 1.23.3\n",
            "  warnings.warn(f\"A NumPy version >={np_minversion} and <{np_maxversion}\"\n"
          ]
        }
      ],
      "source": [
        "import scipy\n",
        "import scipy.signal as signal\n",
        "from stft import *"
      ]
    },
    {
      "cell_type": "code",
      "execution_count": 4,
      "metadata": {},
      "outputs": [
        {
          "name": "stdout",
          "output_type": "stream",
          "text": [
            "(3945, 8, 129, 11) (3945, 8, 1250)\n"
          ]
        }
      ],
      "source": [
        "eegSTFT = STFT(default_stft_params)\n",
        "eegSTFT.compute(eeg['X'])\n",
        "eeg['STFT']=eegSTFT.stft['Zxx']\n",
        "print(eeg['STFT'].shape, eeg['X'].shape)"
      ]
    },
    {
      "cell_type": "markdown",
      "metadata": {},
      "source": [
        "#### wavelet transform"
      ]
    },
    {
      "cell_type": "code",
      "execution_count": 5,
      "metadata": {
        "id": "5-9KkTMLrBJ_"
      },
      "outputs": [],
      "source": [
        "import pywt as pywt\n",
        "\n",
        "def wavelet_coef_freq(signal, Fs=250, scale=(1,11), waveletname = 'cmor',method_='conv'):\n",
        "  Ts=1/Fs\n",
        "  scales=np.arange(scale[0],scale[1])\n",
        "  f = pywt.scale2frequency(waveletname,scales)*Fs\n",
        "  [coefficients, frequencies] = pywt.cwt(signal, scales, waveletname, 1/Fs, method=method_)\n",
        "  return [coefficients, frequencies]\n",
        "\n",
        "def _2D_wavelet_coef_freq(X, Fs=250, scale=(1,11), waveletname = 'cmor',method_='conv'):\n",
        "  assert X.ndim == 2\n",
        "  coeffs = np.empty((X.shape[0],scale[1]-scale[0],X.shape[1]))\n",
        "\n",
        "  for ch in range(X.shape[0]):\n",
        "    coeffs[ch,:] = wavelet_coef_freq(X[ch,:],Fs,scale,waveletname,method_)[0]\n",
        "\n",
        "  return coeffs\n",
        "\n",
        "def _3D_wavelet_coef_freq(X, Fs=250, scale=(1,11), waveletname = 'cmor',method_='conv'):\n",
        "  assert X.ndim == 3\n",
        "  \n",
        "  coeffs = np.empty((X.shape[0],X.shape[1],scale[1]-scale[0],X.shape[2]))\n",
        "\n",
        "  for ch in range(X.shape[0]):\n",
        "    for i in range(X.shape[1]):\n",
        "      coeffs[i,:,:] = _2D_wavelet_coef_freq(X[i,:,:], Fs, scale, waveletname, method_)\n",
        "    print(ch)\n",
        "\n",
        "  return coeffs"
      ]
    },
    {
      "cell_type": "code",
      "execution_count": 9,
      "metadata": {},
      "outputs": [
        {
          "name": "stdout",
          "output_type": "stream",
          "text": [
            "0\n",
            "1\n",
            "2\n",
            "3\n",
            "4\n",
            "5\n",
            "6\n",
            "7\n",
            "8\n",
            "9\n",
            "10\n",
            "11\n",
            "12\n",
            "13\n",
            "14\n",
            "15\n",
            "16\n",
            "17\n",
            "18\n",
            "19\n",
            "20\n",
            "21\n",
            "22\n",
            "23\n",
            "24\n",
            "25\n",
            "26\n",
            "27\n",
            "28\n",
            "29\n",
            "30\n",
            "31\n",
            "32\n",
            "33\n",
            "34\n",
            "35\n",
            "36\n",
            "37\n",
            "38\n",
            "39\n",
            "40\n",
            "41\n",
            "42\n",
            "43\n",
            "44\n",
            "45\n",
            "46\n",
            "47\n",
            "48\n",
            "49\n"
          ]
        }
      ],
      "source": [
        "eeg['morlet_wavelet'] = _3D_wavelet_coef_freq(eeg['X'][0:50,:,:],250,(1,26),'morl','fft')"
      ]
    },
    {
      "cell_type": "code",
      "execution_count": 10,
      "metadata": {},
      "outputs": [
        {
          "name": "stdout",
          "output_type": "stream",
          "text": [
            "(50, 8, 25, 1250)\n"
          ]
        }
      ],
      "source": [
        "print(eeg['morlet_wavelet'].shape)"
      ]
    },
    {
      "cell_type": "code",
      "execution_count": 12,
      "metadata": {},
      "outputs": [
        {
          "data": {
            "text/plain": [
              "['features/morlet_wavelet.sav']"
            ]
          },
          "execution_count": 12,
          "metadata": {},
          "output_type": "execute_result"
        }
      ],
      "source": [
        "joblib.dump(eeg,'features/morlet_wavelet.sav')"
      ]
    },
    {
      "cell_type": "markdown",
      "metadata": {},
      "source": [
        "#### whatever it is you are trying to achieve here that you are not doing properly"
      ]
    },
    {
      "cell_type": "code",
      "execution_count": 15,
      "metadata": {
        "id": "cf2PW2HRYnhG"
      },
      "outputs": [],
      "source": [
        "# def plot_wavelet(coefficients, frequencies, cmap = plt.cm.seismic, \n",
        "#                  title = 'Wavelet Transform (Power Spectrum) of signal', \n",
        "#                  ylabel = 'Period (years)', \n",
        "#                  xlabel = 'Time'):\n",
        "    \n",
        "    \n",
        "#     power = (abs(coefficients)) ** 2\n",
        "#     period = 1. / frequencies\n",
        "#     levels = [0.0625, 0.125, 0.25, 0.5, 1, 2, 4, 8]\n",
        "#     contourlevels = np.log2(levels)\n",
        "    \n",
        "#     fig, ax = plt.subplots(figsize=(15, 10))\n",
        "#     im = ax.contourf(time, np.log2(period), np.log2(power), contourlevels, extend='both',cmap=cmap)\n",
        "    \n",
        "#     ax.set_title(title, fontsize=20)\n",
        "#     ax.set_ylabel(ylabel, fontsize=18)\n",
        "#     ax.set_xlabel(xlabel, fontsize=18)\n",
        "    \n",
        "#     yticks = 2**np.arange(np.ceil(np.log2(period.min())), np.ceil(np.log2(period.max())))\n",
        "#     ax.set_yticks(np.log2(yticks))\n",
        "#     ax.set_yticklabels(yticks)\n",
        "#     ax.invert_yaxis()\n",
        "#     ylim = ax.get_ylim()\n",
        "#     ax.set_ylim(ylim[0], -1)\n",
        "    \n",
        "#     cbar_ax = fig.add_axes([0.95, 0.5, 0.03, 0.25])\n",
        "#     fig.colorbar(im, cax=cbar_ax, orientation=\"vertical\")\n",
        "#     plt.show()\n",
        " \n",
        "\n"
      ]
    },
    {
      "cell_type": "code",
      "execution_count": null,
      "metadata": {
        "colab": {
          "base_uri": "https://localhost:8080/"
        },
        "id": "9InccNXTYrWw",
        "outputId": "7f0e032d-1729-4d38-9301-27f7d064cf41"
      },
      "outputs": [
        {
          "name": "stderr",
          "output_type": "stream",
          "text": [
            "/usr/local/lib/python3.7/dist-packages/pywt/_cwt.py:117: FutureWarning: Wavelets from the family cmor, without parameters specified in the name are deprecated. The name should takethe form cmorB-C where B and C are floats representing the bandwidth frequency and center frequency, respectively (example: cmor1.5-1.0).\n",
            "  wavelet = DiscreteContinuousWavelet(wavelet)\n"
          ]
        }
      ],
      "source": [
        "N = data.shape[0]\n",
        "t0=1500\n",
        "dt=0.25\n",
        "time = np.arange(0, N) * dt + t0\n",
        "signal = np.ndarray(data.shape[0])\n",
        " \n",
        "scales = np.arange(1, 1250)\n",
        "[coefficients, frequencies] = get_wavelet_coef_and_freq(time, signal, scales, waveletname='cmor')\n",
        "\n",
        "#plot_wavelet(coefficients, frequencies)\n"
      ]
    },
    {
      "cell_type": "code",
      "execution_count": 16,
      "metadata": {
        "colab": {
          "base_uri": "https://localhost:8080/"
        },
        "id": "ne51lQ14dGq7",
        "outputId": "a8163ffc-f8be-46af-a76a-fa7e97bdb572"
      },
      "outputs": [
        {
          "name": "stdout",
          "output_type": "stream",
          "text": [
            "0\n",
            "0\n"
          ]
        }
      ],
      "source": [
        "scales = range(1,1250)\n",
        "waveletname = 'morl'\n",
        "train_size = 10\n",
        "test_size= 20\n",
        "\n",
        "train_data_cwt = np.ndarray(shape=(train_size, 1249, 1249, 8))\n",
        "f = pywt.scale2frequency(waveletname, scales)/1250\n",
        "\n",
        "for ii in range(0,train_size):\n",
        "    if ii % 100 == 0:\n",
        "        print(ii)\n",
        "    for jj in range(0,8):\n",
        "        signal = d[ii, :, jj]\n",
        "        coeff, freq = pywt.cwt(signal, scales, waveletname, 1)\n",
        "        coeff_ = coeff[:,:1249]\n",
        "        train_data_cwt[ii, :, :, jj] = coeff_\n",
        "\n",
        "test_data_cwt = np.ndarray(shape=(test_size, 1249, 1249, 8))\n",
        "\n",
        "for ii in range(0,test_size):\n",
        "    if ii % 100 == 0:\n",
        "        print(ii)\n",
        "    for jj in range(0,8):\n",
        "        signal = d[ii, :, jj]\n",
        "        coeff, freq = pywt.cwt(signal, scales, waveletname, 1)\n",
        "        coeff_ = coeff[:,:1249]\n",
        "        test_data_cwt[ii, :, :, jj] = coeff_\n",
        "\n",
        "labels_train = list(map(lambda x: int(x) - 1, np.ndarray(m.shape[0])))\n",
        "labels_test = list(map(lambda x: int(x) - 1, np.ndarray(m.shape[0])))\n",
        "x_train = train_data_cwt\n",
        "y_train = list(labels_train[:train_size])\n",
        "x_test = test_data_cwt\n",
        "y_test = list(labels_test[:test_size])"
      ]
    },
    {
      "cell_type": "code",
      "execution_count": null,
      "metadata": {
        "id": "a2o4GsqTyBm9"
      },
      "outputs": [],
      "source": [
        "import keras\n",
        "from keras.layers import Dense, Flatten\n",
        "from keras.layers import Conv2D, MaxPooling2D\n",
        "from keras.models import Sequential\n",
        "from keras.callbacks import History \n",
        "history = History()\n",
        " \n",
        "img_x = 1249\n",
        "img_y = 1249\n",
        "img_z = 8\n",
        "input_shape = (img_x, img_y, img_z)\n",
        " \n",
        "num_classes = 6\n",
        "batch_size = 16\n",
        "num_classes = 7\n",
        "epochs = 10\n",
        " \n",
        "x_train = x_train.astype('float32')\n",
        "x_test = x_test.astype('float32')\n",
        " \n",
        "y_train = keras.utils.to_categorical(y_train, num_classes)\n",
        "y_test = keras.utils.to_categorical(y_test, num_classes)\n",
        " \n",
        " \n",
        "model = Sequential()\n",
        "model.add(Conv2D(32, kernel_size=(5, 5), strides=(1, 1),\n",
        "                 activation='relu',\n",
        "                 input_shape=input_shape))\n",
        "model.add(MaxPooling2D(pool_size=(2, 2), strides=(2, 2)))\n",
        "model.add(Conv2D(64, (5, 5), activation='relu'))\n",
        "model.add(MaxPooling2D(pool_size=(2, 2)))\n",
        "model.add(Flatten())\n",
        "model.add(Dense(1000, activation='relu'))\n",
        "model.add(Dense(num_classes, activation='softmax'))\n",
        " \n",
        "model.compile(loss=keras.losses.categorical_crossentropy,\n",
        "              optimizer=keras.optimizers.Adam(),\n",
        "              metrics=['accuracy'])\n",
        " \n",
        " \n",
        "model.fit(x_train, y_train,\n",
        "          batch_size=batch_size,\n",
        "          epochs=epochs,\n",
        "          verbose=1,\n",
        "          validation_data=(x_test, y_test),\n",
        "          callbacks=[history])\n",
        " \n",
        "train_score = model.evaluate(x_train, y_train, verbose=0)\n",
        "print('Train loss: {}, Train accuracy: {}'.format(train_score[0], train_score[1]))\n",
        "test_score = model.evaluate(x_test, y_test, verbose=0)\n",
        "print('Test loss: {}, Test accuracy: {}'.format(test_score[0], test_score[1]))"
      ]
    }
  ],
  "metadata": {
    "colab": {
      "provenance": []
    },
    "kernelspec": {
      "display_name": "Python 3.9.13 ('base')",
      "language": "python",
      "name": "python3"
    },
    "language_info": {
      "codemirror_mode": {
        "name": "ipython",
        "version": 3
      },
      "file_extension": ".py",
      "mimetype": "text/x-python",
      "name": "python",
      "nbconvert_exporter": "python",
      "pygments_lexer": "ipython3",
      "version": "3.9.13"
    },
    "vscode": {
      "interpreter": {
        "hash": "af8259ad5c1c9c7a69bd6ea085234cf8fd3a6a37a71ca551828b314c4d89b0ad"
      }
    }
  },
  "nbformat": 4,
  "nbformat_minor": 0
}
