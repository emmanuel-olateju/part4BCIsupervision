{
  "cells": [
    {
      "cell_type": "code",
      "execution_count": 1,
      "metadata": {
        "id": "PbVbUoLEy538"
      },
      "outputs": [],
      "source": [
        "import numpy as np\n",
        "import matplotlib.pyplot as plt\n",
        "import pyxdf\n",
        "import joblib"
      ]
    },
    {
      "cell_type": "code",
      "execution_count": 2,
      "metadata": {
        "id": "LZ4yeEOhzKVO"
      },
      "outputs": [],
      "source": [
        "no_of_files=12\n",
        "\n",
        "all_xdfs = [pyxdf.load_xdf('dataset/A'+str(f)+'.xdf')[0] for f in range(1,no_of_files+1)]"
      ]
    },
    {
      "cell_type": "code",
      "execution_count": 3,
      "metadata": {
        "id": "MNi2mUpF1Jzr"
      },
      "outputs": [],
      "source": [
        "def xdf_extract(i,eventWindow,channel_length,eeg_channel,stim_channel):\n",
        "    dataset_arr=np.empty((0,eventWindow,channel_length))\n",
        "    start_time=float(i[eeg_channel]['footer']['info']['first_timestamp'][0])\n",
        "    end_time=float(i[eeg_channel]['footer']['info']['last_timestamp'][0])\n",
        "    no_samples=float(i[eeg_channel]['footer']['info']['sample_count'][0])\n",
        "    Fs=i[eeg_channel]['info']['effective_srate']\n",
        "    try:\n",
        "        Ts=1/Fs\n",
        "    except ZeroDivisionError:\n",
        "        print('ZeroDivisionError')\n",
        "        return\n",
        "    time_stamps=(i[eeg_channel]['time_stamps']-start_time)/(end_time-start_time)*no_samples*Ts\n",
        "    time_index=(i[eeg_channel]['time_stamps']-start_time)/(end_time-start_time)*no_samples\n",
        "    first_marker_time=(float(i[stim_channel]['footer']['info']['first_timestamp'][0])-start_time)/(end_time-start_time)*no_samples*Ts\n",
        "    last_marker_time=(float(i[stim_channel]['footer']['info']['last_timestamp'][0])-start_time)/(end_time-start_time)*no_samples*Ts\n",
        "    markers=list()\n",
        "    for j in i[stim_channel]['time_series']:\n",
        "        markers.append(j[0])\n",
        "    markers_time=list((i[stim_channel]['time_stamps']-start_time)/(end_time-start_time)*no_samples*Ts)\n",
        "    markers_index=list((i[stim_channel]['time_stamps']-start_time)/(end_time-start_time)*no_samples)\n",
        "\n",
        "    for e in range(1,len(markers)-1):\n",
        "        try:\n",
        "            data=(i[eeg_channel]['time_series'][(np.where(time_stamps>=markers_time[e])),:])[:,0:eventWindow,:]#[0:3,:]#[:,0:eventWindow,:].reshape(eventWindow,8).reshape(1,eventWindow,8)\n",
        "            # print(data.shape)\n",
        "            dataset_arr=np.vstack((dataset_arr,data))\n",
        "        except ValueError as v:\n",
        "            print(data.shape,'ValueError',v)\n",
        "            return\n",
        "    return dataset_arr,markers[1:-1]"
      ]
    },
    {
      "cell_type": "code",
      "execution_count": 9,
      "metadata": {
        "id": "uDk-N3Y41co5"
      },
      "outputs": [
        {
          "name": "stdout",
          "output_type": "stream",
          "text": [
            "(3945, 8, 250) 3945\n"
          ]
        }
      ],
      "source": [
        "eeg_data = None\n",
        "eeg_markers = None\n",
        "for i,xdf in enumerate(all_xdfs[1:]):\n",
        "    if xdf != None:\n",
        "        if i == 0:\n",
        "            eeg = xdf_extract(xdf, 250, 8, 0, 1)\n",
        "            eeg_data = eeg[0]\n",
        "            eeg_markers = eeg[1]\n",
        "        else:\n",
        "            eeg = xdf_extract(xdf, 250, 8, 0, 1)\n",
        "            eeg_data = np.vstack((eeg_data,eeg[0]))\n",
        "            eeg_markers = eeg_markers + eeg[1]\n",
        "eeg_data = np.transpose(eeg_data, [0,2,1])\n",
        "print(eeg_data.shape, len(eeg_markers))"
      ]
    },
    {
      "cell_type": "code",
      "execution_count": 11,
      "metadata": {},
      "outputs": [
        {
          "data": {
            "text/plain": [
              "(3945, 8, 250)"
            ]
          },
          "execution_count": 11,
          "metadata": {},
          "output_type": "execute_result"
        }
      ],
      "source": [
        "eeg_data.shape"
      ]
    },
    {
      "cell_type": "code",
      "execution_count": 12,
      "metadata": {
        "colab": {
          "base_uri": "https://localhost:8080/"
        },
        "id": "KPeo1oWM4f08",
        "outputId": "71b2603f-350e-4447-b92a-dfdc4156f9a3"
      },
      "outputs": [
        {
          "data": {
            "text/plain": [
              "['altered_data/merged_eeg.sav']"
            ]
          },
          "execution_count": 12,
          "metadata": {},
          "output_type": "execute_result"
        }
      ],
      "source": [
        "eeg = {'X':eeg_data, 'y':eeg_markers}\n",
        "\n",
        "# eeg_file = open('altered_data/merged_eeg.sav','w')\n",
        "\n",
        "joblib.dump(eeg,'altered_data/merged_eeg.sav')"
      ]
    },
    {
      "cell_type": "code",
      "execution_count": null,
      "metadata": {},
      "outputs": [],
      "source": []
    },
    {
      "cell_type": "code",
      "execution_count": null,
      "metadata": {},
      "outputs": [],
      "source": []
    }
  ],
  "metadata": {
    "colab": {
      "provenance": []
    },
    "kernelspec": {
      "display_name": "Python 3.9.13 ('base')",
      "language": "python",
      "name": "python3"
    },
    "language_info": {
      "codemirror_mode": {
        "name": "ipython",
        "version": 3
      },
      "file_extension": ".py",
      "mimetype": "text/x-python",
      "name": "python",
      "nbconvert_exporter": "python",
      "pygments_lexer": "ipython3",
      "version": "3.9.13"
    },
    "vscode": {
      "interpreter": {
        "hash": "af8259ad5c1c9c7a69bd6ea085234cf8fd3a6a37a71ca551828b314c4d89b0ad"
      }
    }
  },
  "nbformat": 4,
  "nbformat_minor": 0
}
